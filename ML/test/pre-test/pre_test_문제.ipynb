{
 "nbformat": 4,
 "nbformat_minor": 0,
 "metadata": {
  "colab": {
   "provenance": []
  },
  "kernelspec": {
   "name": "python3",
   "display_name": "Python 3 (ipykernel)",
   "language": "python"
  },
  "language_info": {
   "name": "python"
  }
 },
 "cells": [
  {
   "cell_type": "markdown",
   "source": [
    "# [문제 1]\n",
    "### nfl_data.csv 파일에는 미국 내셔널 풋볼 리그의 선수 목록이 있습니다.\n",
    "\n"
   ],
   "metadata": {
    "id": "MAK1VhgQ5moK"
   }
  },
  {
   "cell_type": "code",
   "source": [
    "import pandas as pd"
   ],
   "metadata": {
    "id": "pEuwfIU26J_V",
    "executionInfo": {
     "status": "ok",
     "timestamp": 1720686674386,
     "user_tz": -540,
     "elapsed": 566,
     "user": {
      "displayName": "이정현",
      "userId": "13460005357557602755"
     }
    },
    "ExecuteTime": {
     "end_time": "2024-07-11T11:41:29.523295Z",
     "start_time": "2024-07-11T11:41:27.983489Z"
    }
   },
   "outputs": [],
   "execution_count": 1
  },
  {
   "cell_type": "code",
   "metadata": {
    "id": "TIDVCmUu5YM-",
    "colab": {
     "base_uri": "https://localhost:8080/",
     "height": 206
    },
    "executionInfo": {
     "status": "ok",
     "timestamp": 1720686674973,
     "user_tz": -540,
     "elapsed": 10,
     "user": {
      "displayName": "이정현",
      "userId": "13460005357557602755"
     }
    },
    "outputId": "133dd91f-5f02-44ea-f279-420cb006a4be",
    "ExecuteTime": {
     "end_time": "2024-07-11T11:41:29.623150Z",
     "start_time": "2024-07-11T11:41:29.525147Z"
    }
   },
   "source": [
    "# nfl_data.csv 파일을 읽어들이면서 Birthday 열의 값을 날짜/시간 데이터로 변환하세요\n",
    "# 변수 : nfl\n",
    "\n",
    "nfl = pd.read_csv(\"nfl_data.csv\", parse_dates=[\"Birthday\"])\n",
    "nfl.head()\n"
   ],
   "outputs": [
    {
     "data": {
      "text/plain": [
       "             Name                  Team Position   Birthday   Salary\n",
       "0    Tremon Smith   Philadelphia Eagles       RB 1996-07-20   570000\n",
       "1  Shawn Williams    Cincinnati Bengals       SS 1991-05-13  3500000\n",
       "2     Adam Butler  New England Patriots       DT 1994-04-12   645000\n",
       "3     Derek Wolfe        Denver Broncos       DE 1990-02-24  8000000\n",
       "4       Jake Ryan  Jacksonville Jaguars      OLB 1992-02-27  1000000"
      ],
      "text/html": [
       "<div>\n",
       "<style scoped>\n",
       "    .dataframe tbody tr th:only-of-type {\n",
       "        vertical-align: middle;\n",
       "    }\n",
       "\n",
       "    .dataframe tbody tr th {\n",
       "        vertical-align: top;\n",
       "    }\n",
       "\n",
       "    .dataframe thead th {\n",
       "        text-align: right;\n",
       "    }\n",
       "</style>\n",
       "<table border=\"1\" class=\"dataframe\">\n",
       "  <thead>\n",
       "    <tr style=\"text-align: right;\">\n",
       "      <th></th>\n",
       "      <th>Name</th>\n",
       "      <th>Team</th>\n",
       "      <th>Position</th>\n",
       "      <th>Birthday</th>\n",
       "      <th>Salary</th>\n",
       "    </tr>\n",
       "  </thead>\n",
       "  <tbody>\n",
       "    <tr>\n",
       "      <th>0</th>\n",
       "      <td>Tremon Smith</td>\n",
       "      <td>Philadelphia Eagles</td>\n",
       "      <td>RB</td>\n",
       "      <td>1996-07-20</td>\n",
       "      <td>570000</td>\n",
       "    </tr>\n",
       "    <tr>\n",
       "      <th>1</th>\n",
       "      <td>Shawn Williams</td>\n",
       "      <td>Cincinnati Bengals</td>\n",
       "      <td>SS</td>\n",
       "      <td>1991-05-13</td>\n",
       "      <td>3500000</td>\n",
       "    </tr>\n",
       "    <tr>\n",
       "      <th>2</th>\n",
       "      <td>Adam Butler</td>\n",
       "      <td>New England Patriots</td>\n",
       "      <td>DT</td>\n",
       "      <td>1994-04-12</td>\n",
       "      <td>645000</td>\n",
       "    </tr>\n",
       "    <tr>\n",
       "      <th>3</th>\n",
       "      <td>Derek Wolfe</td>\n",
       "      <td>Denver Broncos</td>\n",
       "      <td>DE</td>\n",
       "      <td>1990-02-24</td>\n",
       "      <td>8000000</td>\n",
       "    </tr>\n",
       "    <tr>\n",
       "      <th>4</th>\n",
       "      <td>Jake Ryan</td>\n",
       "      <td>Jacksonville Jaguars</td>\n",
       "      <td>OLB</td>\n",
       "      <td>1992-02-27</td>\n",
       "      <td>1000000</td>\n",
       "    </tr>\n",
       "  </tbody>\n",
       "</table>\n",
       "</div>"
      ]
     },
     "execution_count": 2,
     "metadata": {},
     "output_type": "execute_result"
    }
   ],
   "execution_count": 2
  },
  {
   "cell_type": "code",
   "source": [
    "nfl.info()"
   ],
   "metadata": {
    "colab": {
     "base_uri": "https://localhost:8080/"
    },
    "id": "6Ha_YA1l3JT-",
    "executionInfo": {
     "status": "ok",
     "timestamp": 1720686674973,
     "user_tz": -540,
     "elapsed": 8,
     "user": {
      "displayName": "이정현",
      "userId": "13460005357557602755"
     }
    },
    "outputId": "b48186e1-eead-4fa8-8dcb-5ca4d12f1ade",
    "ExecuteTime": {
     "end_time": "2024-07-11T11:41:29.639670Z",
     "start_time": "2024-07-11T11:41:29.624831Z"
    }
   },
   "outputs": [
    {
     "name": "stdout",
     "output_type": "stream",
     "text": [
      "<class 'pandas.core.frame.DataFrame'>\n",
      "RangeIndex: 1655 entries, 0 to 1654\n",
      "Data columns (total 5 columns):\n",
      " #   Column    Non-Null Count  Dtype         \n",
      "---  ------    --------------  -----         \n",
      " 0   Name      1655 non-null   object        \n",
      " 1   Team      1655 non-null   object        \n",
      " 2   Position  1655 non-null   object        \n",
      " 3   Birthday  1655 non-null   datetime64[ns]\n",
      " 4   Salary    1655 non-null   int64         \n",
      "dtypes: datetime64[ns](1), int64(1), object(3)\n",
      "memory usage: 64.8+ KB\n"
     ]
    }
   ],
   "execution_count": 3
  },
  {
   "cell_type": "code",
   "source": [
    "# 받아들인 데이터셋에서 선수의 이름을 인덱스 레이블로 설정하세요.\n",
    "nfl = nfl.set_index(\"Name\")\n",
    "nfl.head()"
   ],
   "metadata": {
    "id": "wZq1IGvz5lPv",
    "colab": {
     "base_uri": "https://localhost:8080/",
     "height": 238
    },
    "executionInfo": {
     "status": "ok",
     "timestamp": 1720686674974,
     "user_tz": -540,
     "elapsed": 8,
     "user": {
      "displayName": "이정현",
      "userId": "13460005357557602755"
     }
    },
    "outputId": "41863587-5d75-4ad8-bfab-19a9fc16b224",
    "ExecuteTime": {
     "end_time": "2024-07-11T11:41:29.652147Z",
     "start_time": "2024-07-11T11:41:29.642369Z"
    }
   },
   "outputs": [
    {
     "data": {
      "text/plain": [
       "                                Team Position   Birthday   Salary\n",
       "Name                                                             \n",
       "Tremon Smith     Philadelphia Eagles       RB 1996-07-20   570000\n",
       "Shawn Williams    Cincinnati Bengals       SS 1991-05-13  3500000\n",
       "Adam Butler     New England Patriots       DT 1994-04-12   645000\n",
       "Derek Wolfe           Denver Broncos       DE 1990-02-24  8000000\n",
       "Jake Ryan       Jacksonville Jaguars      OLB 1992-02-27  1000000"
      ],
      "text/html": [
       "<div>\n",
       "<style scoped>\n",
       "    .dataframe tbody tr th:only-of-type {\n",
       "        vertical-align: middle;\n",
       "    }\n",
       "\n",
       "    .dataframe tbody tr th {\n",
       "        vertical-align: top;\n",
       "    }\n",
       "\n",
       "    .dataframe thead th {\n",
       "        text-align: right;\n",
       "    }\n",
       "</style>\n",
       "<table border=\"1\" class=\"dataframe\">\n",
       "  <thead>\n",
       "    <tr style=\"text-align: right;\">\n",
       "      <th></th>\n",
       "      <th>Team</th>\n",
       "      <th>Position</th>\n",
       "      <th>Birthday</th>\n",
       "      <th>Salary</th>\n",
       "    </tr>\n",
       "    <tr>\n",
       "      <th>Name</th>\n",
       "      <th></th>\n",
       "      <th></th>\n",
       "      <th></th>\n",
       "      <th></th>\n",
       "    </tr>\n",
       "  </thead>\n",
       "  <tbody>\n",
       "    <tr>\n",
       "      <th>Tremon Smith</th>\n",
       "      <td>Philadelphia Eagles</td>\n",
       "      <td>RB</td>\n",
       "      <td>1996-07-20</td>\n",
       "      <td>570000</td>\n",
       "    </tr>\n",
       "    <tr>\n",
       "      <th>Shawn Williams</th>\n",
       "      <td>Cincinnati Bengals</td>\n",
       "      <td>SS</td>\n",
       "      <td>1991-05-13</td>\n",
       "      <td>3500000</td>\n",
       "    </tr>\n",
       "    <tr>\n",
       "      <th>Adam Butler</th>\n",
       "      <td>New England Patriots</td>\n",
       "      <td>DT</td>\n",
       "      <td>1994-04-12</td>\n",
       "      <td>645000</td>\n",
       "    </tr>\n",
       "    <tr>\n",
       "      <th>Derek Wolfe</th>\n",
       "      <td>Denver Broncos</td>\n",
       "      <td>DE</td>\n",
       "      <td>1990-02-24</td>\n",
       "      <td>8000000</td>\n",
       "    </tr>\n",
       "    <tr>\n",
       "      <th>Jake Ryan</th>\n",
       "      <td>Jacksonville Jaguars</td>\n",
       "      <td>OLB</td>\n",
       "      <td>1992-02-27</td>\n",
       "      <td>1000000</td>\n",
       "    </tr>\n",
       "  </tbody>\n",
       "</table>\n",
       "</div>"
      ]
     },
     "execution_count": 4,
     "metadata": {},
     "output_type": "execute_result"
    }
   ],
   "execution_count": 4
  },
  {
   "cell_type": "code",
   "source": [
    "# 이 데이터셋에서 팀 당 선수가 몇 명인지 구하세요\n",
    "nfl[\"Team\"].value_counts()\n"
   ],
   "metadata": {
    "id": "NYUSTsJx5lSR",
    "colab": {
     "base_uri": "https://localhost:8080/"
    },
    "executionInfo": {
     "status": "ok",
     "timestamp": 1720686674974,
     "user_tz": -540,
     "elapsed": 7,
     "user": {
      "displayName": "이정현",
      "userId": "13460005357557602755"
     }
    },
    "outputId": "84e26ffc-b574-4bd7-a581-a93fe447d262",
    "ExecuteTime": {
     "end_time": "2024-07-11T11:41:29.663782Z",
     "start_time": "2024-07-11T11:41:29.656479Z"
    }
   },
   "outputs": [
    {
     "data": {
      "text/plain": [
       "New York Jets           58\n",
       "Kansas City Chiefs      56\n",
       "Washington Redskins     56\n",
       "New Orleans Saints      55\n",
       "San Francisco 49Ers     55\n",
       "Denver Broncos          54\n",
       "Minnesota Vikings       54\n",
       "Los Angeles Chargers    54\n",
       "Seattle Seahawks        53\n",
       "Dallas Cowboys          53\n",
       "Buffalo Bills           53\n",
       "Atlanta Falcons         53\n",
       "Detroit Lions           53\n",
       "Chicago Bears           53\n",
       "Los Angeles Rams        52\n",
       "New York Giants         52\n",
       "Philadelphia Eagles     52\n",
       "Houston Texans          52\n",
       "Arizona Cardinals       51\n",
       "Cincinnati Bengals      51\n",
       "Green Bay Packers       51\n",
       "Oakland Raiders         51\n",
       "Jacksonville Jaguars    50\n",
       "Cleveland Browns        49\n",
       "Miami Dolphins          49\n",
       "Indianapolis Colts      49\n",
       "Carolina Panthers       49\n",
       "New England Patriots    49\n",
       "Baltimore Ravens        48\n",
       "Pittsburgh Steelers     47\n",
       "Tampa Bay Buccaneers    47\n",
       "Tennessee Titans        46\n",
       "Name: Team, dtype: int64"
      ]
     },
     "execution_count": 5,
     "metadata": {},
     "output_type": "execute_result"
    }
   ],
   "execution_count": 5
  },
  {
   "cell_type": "code",
   "source": [
    "# 이 데이터셋에서 가장 높은 연봉을 받는 선수 5명을 구하세요\n",
    "nfl.nlargest(5, \"Salary\")\n"
   ],
   "metadata": {
    "id": "heyj_mVH5lUt",
    "colab": {
     "base_uri": "https://localhost:8080/",
     "height": 238
    },
    "executionInfo": {
     "status": "ok",
     "timestamp": 1720686674974,
     "user_tz": -540,
     "elapsed": 6,
     "user": {
      "displayName": "이정현",
      "userId": "13460005357557602755"
     }
    },
    "outputId": "f99fd1ec-1a7f-446a-abbc-35d22e9acbc3",
    "ExecuteTime": {
     "end_time": "2024-07-11T11:41:29.681582Z",
     "start_time": "2024-07-11T11:41:29.666624Z"
    }
   },
   "outputs": [
    {
     "data": {
      "text/plain": [
       "                                 Team Position   Birthday    Salary\n",
       "Name                                                               \n",
       "Kirk Cousins        Minnesota Vikings       QB 1988-08-19  27500000\n",
       "Marcus Mariota       Tennessee Titans       QB 1993-10-30  20922000\n",
       "Jameis Winston   Tampa Bay Buccaneers       QB 1994-01-06  20922000\n",
       "Derek Carr            Oakland Raiders       QB 1991-03-28  19900000\n",
       "Jimmy Garoppolo   San Francisco 49Ers       QB 1991-11-02  17200000"
      ],
      "text/html": [
       "<div>\n",
       "<style scoped>\n",
       "    .dataframe tbody tr th:only-of-type {\n",
       "        vertical-align: middle;\n",
       "    }\n",
       "\n",
       "    .dataframe tbody tr th {\n",
       "        vertical-align: top;\n",
       "    }\n",
       "\n",
       "    .dataframe thead th {\n",
       "        text-align: right;\n",
       "    }\n",
       "</style>\n",
       "<table border=\"1\" class=\"dataframe\">\n",
       "  <thead>\n",
       "    <tr style=\"text-align: right;\">\n",
       "      <th></th>\n",
       "      <th>Team</th>\n",
       "      <th>Position</th>\n",
       "      <th>Birthday</th>\n",
       "      <th>Salary</th>\n",
       "    </tr>\n",
       "    <tr>\n",
       "      <th>Name</th>\n",
       "      <th></th>\n",
       "      <th></th>\n",
       "      <th></th>\n",
       "      <th></th>\n",
       "    </tr>\n",
       "  </thead>\n",
       "  <tbody>\n",
       "    <tr>\n",
       "      <th>Kirk Cousins</th>\n",
       "      <td>Minnesota Vikings</td>\n",
       "      <td>QB</td>\n",
       "      <td>1988-08-19</td>\n",
       "      <td>27500000</td>\n",
       "    </tr>\n",
       "    <tr>\n",
       "      <th>Marcus Mariota</th>\n",
       "      <td>Tennessee Titans</td>\n",
       "      <td>QB</td>\n",
       "      <td>1993-10-30</td>\n",
       "      <td>20922000</td>\n",
       "    </tr>\n",
       "    <tr>\n",
       "      <th>Jameis Winston</th>\n",
       "      <td>Tampa Bay Buccaneers</td>\n",
       "      <td>QB</td>\n",
       "      <td>1994-01-06</td>\n",
       "      <td>20922000</td>\n",
       "    </tr>\n",
       "    <tr>\n",
       "      <th>Derek Carr</th>\n",
       "      <td>Oakland Raiders</td>\n",
       "      <td>QB</td>\n",
       "      <td>1991-03-28</td>\n",
       "      <td>19900000</td>\n",
       "    </tr>\n",
       "    <tr>\n",
       "      <th>Jimmy Garoppolo</th>\n",
       "      <td>San Francisco 49Ers</td>\n",
       "      <td>QB</td>\n",
       "      <td>1991-11-02</td>\n",
       "      <td>17200000</td>\n",
       "    </tr>\n",
       "  </tbody>\n",
       "</table>\n",
       "</div>"
      ]
     },
     "execution_count": 6,
     "metadata": {},
     "output_type": "execute_result"
    }
   ],
   "execution_count": 6
  },
  {
   "cell_type": "code",
   "source": [
    "# New York Jets 팀에서 가장 나이가 많은 선수와 그 선수의 생일을 구하세요.\n",
    "nfl[nfl[\"Team\"] == \"New York Jets\"].nsmallest(1, \"Birthday\")\n",
    "\n",
    "# nfl[nfl[\"Team\"] == \"New York Jets\"].min(axis=1)\n",
    "\n",
    "\n"
   ],
   "metadata": {
    "id": "3LCCbO-85lXM",
    "colab": {
     "base_uri": "https://localhost:8080/",
     "height": 112
    },
    "executionInfo": {
     "status": "ok",
     "timestamp": 1720686674974,
     "user_tz": -540,
     "elapsed": 6,
     "user": {
      "displayName": "이정현",
      "userId": "13460005357557602755"
     }
    },
    "outputId": "04a5bbf1-ed9a-4b75-fc43-bf68365d5f7a",
    "ExecuteTime": {
     "end_time": "2024-07-11T11:41:29.698582Z",
     "start_time": "2024-07-11T11:41:29.684616Z"
    }
   },
   "outputs": [
    {
     "data": {
      "text/plain": [
       "                     Team Position   Birthday   Salary\n",
       "Name                                                  \n",
       "Ryan Kalil  New York Jets        C 1985-03-29  2400000"
      ],
      "text/html": [
       "<div>\n",
       "<style scoped>\n",
       "    .dataframe tbody tr th:only-of-type {\n",
       "        vertical-align: middle;\n",
       "    }\n",
       "\n",
       "    .dataframe tbody tr th {\n",
       "        vertical-align: top;\n",
       "    }\n",
       "\n",
       "    .dataframe thead th {\n",
       "        text-align: right;\n",
       "    }\n",
       "</style>\n",
       "<table border=\"1\" class=\"dataframe\">\n",
       "  <thead>\n",
       "    <tr style=\"text-align: right;\">\n",
       "      <th></th>\n",
       "      <th>Team</th>\n",
       "      <th>Position</th>\n",
       "      <th>Birthday</th>\n",
       "      <th>Salary</th>\n",
       "    </tr>\n",
       "    <tr>\n",
       "      <th>Name</th>\n",
       "      <th></th>\n",
       "      <th></th>\n",
       "      <th></th>\n",
       "      <th></th>\n",
       "    </tr>\n",
       "  </thead>\n",
       "  <tbody>\n",
       "    <tr>\n",
       "      <th>Ryan Kalil</th>\n",
       "      <td>New York Jets</td>\n",
       "      <td>C</td>\n",
       "      <td>1985-03-29</td>\n",
       "      <td>2400000</td>\n",
       "    </tr>\n",
       "  </tbody>\n",
       "</table>\n",
       "</div>"
      ]
     },
     "execution_count": 7,
     "metadata": {},
     "output_type": "execute_result"
    }
   ],
   "execution_count": 7
  },
  {
   "cell_type": "markdown",
   "source": [
    "# [문제 2]\n",
    "\n",
    "## customers.csv 데이터셋에는 주소(Address) 열이 있습니다.\n",
    "## 각 주소는 도로，시，주 및 우편번호로 구성됩니다.\n"
   ],
   "metadata": {
    "id": "g2eDZdM97sq3"
   }
  },
  {
   "cell_type": "code",
   "source": [
    "# 주소에서 위 네 가지 값을 분리하고 분리한 값을 각각\n",
    "# Street, City, State, Zip 이라는 새로운 열에 할당하세요\n",
    "# 변수 : customers\n",
    "\n",
    "customers = pd.read_csv(\"customers.csv\")\n",
    "customers.head()\n",
    "\n",
    "customers[[\"Street\", \"City\", \"State\", \"Zip\"]] = customers[\"Address\"].str.split(\",\", expand=True)\n",
    "customers.head()"
   ],
   "metadata": {
    "id": "cEMr31MO5lZY",
    "colab": {
     "base_uri": "https://localhost:8080/",
     "height": 206
    },
    "executionInfo": {
     "status": "ok",
     "timestamp": 1720686675497,
     "user_tz": -540,
     "elapsed": 528,
     "user": {
      "displayName": "이정현",
      "userId": "13460005357557602755"
     }
    },
    "outputId": "b8419974-6811-45dd-87ce-d3fa065d7435",
    "ExecuteTime": {
     "end_time": "2024-07-11T11:41:29.743302Z",
     "start_time": "2024-07-11T11:41:29.699910Z"
    }
   },
   "outputs": [
    {
     "data": {
      "text/plain": [
       "                  Name                                            Address  \\\n",
       "0        Frank Manning  6461 Quinn Groves, East Matthew, New Hampshire...   \n",
       "1    Elizabeth Johnson  1360 Tracey Ports Apt. 419, Kyleport, Vermont,...   \n",
       "2      Donald Stephens  19120 Fleming Manors, Prestonstad, Montana, 23495   \n",
       "3  Michael Vincent III       441 Olivia Creek, Jimmymouth, Georgia, 82991   \n",
       "4       Jasmine Zamora  4246 Chelsey Ford Apt. 310, Karamouth, Utah, 7...   \n",
       "\n",
       "                       Street           City           State     Zip  \n",
       "0           6461 Quinn Groves   East Matthew   New Hampshire   16656  \n",
       "1  1360 Tracey Ports Apt. 419       Kyleport         Vermont   31924  \n",
       "2        19120 Fleming Manors    Prestonstad         Montana   23495  \n",
       "3            441 Olivia Creek     Jimmymouth         Georgia   82991  \n",
       "4  4246 Chelsey Ford Apt. 310      Karamouth            Utah   76252  "
      ],
      "text/html": [
       "<div>\n",
       "<style scoped>\n",
       "    .dataframe tbody tr th:only-of-type {\n",
       "        vertical-align: middle;\n",
       "    }\n",
       "\n",
       "    .dataframe tbody tr th {\n",
       "        vertical-align: top;\n",
       "    }\n",
       "\n",
       "    .dataframe thead th {\n",
       "        text-align: right;\n",
       "    }\n",
       "</style>\n",
       "<table border=\"1\" class=\"dataframe\">\n",
       "  <thead>\n",
       "    <tr style=\"text-align: right;\">\n",
       "      <th></th>\n",
       "      <th>Name</th>\n",
       "      <th>Address</th>\n",
       "      <th>Street</th>\n",
       "      <th>City</th>\n",
       "      <th>State</th>\n",
       "      <th>Zip</th>\n",
       "    </tr>\n",
       "  </thead>\n",
       "  <tbody>\n",
       "    <tr>\n",
       "      <th>0</th>\n",
       "      <td>Frank Manning</td>\n",
       "      <td>6461 Quinn Groves, East Matthew, New Hampshire...</td>\n",
       "      <td>6461 Quinn Groves</td>\n",
       "      <td>East Matthew</td>\n",
       "      <td>New Hampshire</td>\n",
       "      <td>16656</td>\n",
       "    </tr>\n",
       "    <tr>\n",
       "      <th>1</th>\n",
       "      <td>Elizabeth Johnson</td>\n",
       "      <td>1360 Tracey Ports Apt. 419, Kyleport, Vermont,...</td>\n",
       "      <td>1360 Tracey Ports Apt. 419</td>\n",
       "      <td>Kyleport</td>\n",
       "      <td>Vermont</td>\n",
       "      <td>31924</td>\n",
       "    </tr>\n",
       "    <tr>\n",
       "      <th>2</th>\n",
       "      <td>Donald Stephens</td>\n",
       "      <td>19120 Fleming Manors, Prestonstad, Montana, 23495</td>\n",
       "      <td>19120 Fleming Manors</td>\n",
       "      <td>Prestonstad</td>\n",
       "      <td>Montana</td>\n",
       "      <td>23495</td>\n",
       "    </tr>\n",
       "    <tr>\n",
       "      <th>3</th>\n",
       "      <td>Michael Vincent III</td>\n",
       "      <td>441 Olivia Creek, Jimmymouth, Georgia, 82991</td>\n",
       "      <td>441 Olivia Creek</td>\n",
       "      <td>Jimmymouth</td>\n",
       "      <td>Georgia</td>\n",
       "      <td>82991</td>\n",
       "    </tr>\n",
       "    <tr>\n",
       "      <th>4</th>\n",
       "      <td>Jasmine Zamora</td>\n",
       "      <td>4246 Chelsey Ford Apt. 310, Karamouth, Utah, 7...</td>\n",
       "      <td>4246 Chelsey Ford Apt. 310</td>\n",
       "      <td>Karamouth</td>\n",
       "      <td>Utah</td>\n",
       "      <td>76252</td>\n",
       "    </tr>\n",
       "  </tbody>\n",
       "</table>\n",
       "</div>"
      ]
     },
     "execution_count": 8,
     "metadata": {},
     "output_type": "execute_result"
    }
   ],
   "execution_count": 8
  },
  {
   "cell_type": "code",
   "source": [
    "# 가장 아래에서부터 5개 행을 확인합니다.\n",
    "customers.tail()"
   ],
   "metadata": {
    "id": "heUdMUDI5lbr",
    "colab": {
     "base_uri": "https://localhost:8080/",
     "height": 206
    },
    "executionInfo": {
     "status": "ok",
     "timestamp": 1720686675498,
     "user_tz": -540,
     "elapsed": 10,
     "user": {
      "displayName": "이정현",
      "userId": "13460005357557602755"
     }
    },
    "outputId": "7f21b9f2-8993-420d-9fc9-9afba500ee87",
    "ExecuteTime": {
     "end_time": "2024-07-11T11:41:29.754429Z",
     "start_time": "2024-07-11T11:41:29.745660Z"
    }
   },
   "outputs": [
    {
     "data": {
      "text/plain": [
       "                  Name                                            Address  \\\n",
       "9956     Dana Browning  762 Andrew Views Apt. 254, North Paul, New Mex...   \n",
       "9957   Amanda Anderson  44188 Day Crest Apt. 901, Lake Marcia, Maine, ...   \n",
       "9958        Eric Davis  73015 Michelle Squares, Watsonville, West Virg...   \n",
       "9959  Taylor Hernandez       129 Keith Greens, Haleyfurt, Oklahoma, 98916   \n",
       "9960  Sherry Nicholson   355 Griffin Valley, Davidtown, New Mexico, 17581   \n",
       "\n",
       "                         Street          City           State     Zip  \n",
       "9956  762 Andrew Views Apt. 254    North Paul      New Mexico   28889  \n",
       "9957   44188 Day Crest Apt. 901   Lake Marcia           Maine   37378  \n",
       "9958     73015 Michelle Squares   Watsonville   West Virginia   03933  \n",
       "9959           129 Keith Greens     Haleyfurt        Oklahoma   98916  \n",
       "9960         355 Griffin Valley     Davidtown      New Mexico   17581  "
      ],
      "text/html": [
       "<div>\n",
       "<style scoped>\n",
       "    .dataframe tbody tr th:only-of-type {\n",
       "        vertical-align: middle;\n",
       "    }\n",
       "\n",
       "    .dataframe tbody tr th {\n",
       "        vertical-align: top;\n",
       "    }\n",
       "\n",
       "    .dataframe thead th {\n",
       "        text-align: right;\n",
       "    }\n",
       "</style>\n",
       "<table border=\"1\" class=\"dataframe\">\n",
       "  <thead>\n",
       "    <tr style=\"text-align: right;\">\n",
       "      <th></th>\n",
       "      <th>Name</th>\n",
       "      <th>Address</th>\n",
       "      <th>Street</th>\n",
       "      <th>City</th>\n",
       "      <th>State</th>\n",
       "      <th>Zip</th>\n",
       "    </tr>\n",
       "  </thead>\n",
       "  <tbody>\n",
       "    <tr>\n",
       "      <th>9956</th>\n",
       "      <td>Dana Browning</td>\n",
       "      <td>762 Andrew Views Apt. 254, North Paul, New Mex...</td>\n",
       "      <td>762 Andrew Views Apt. 254</td>\n",
       "      <td>North Paul</td>\n",
       "      <td>New Mexico</td>\n",
       "      <td>28889</td>\n",
       "    </tr>\n",
       "    <tr>\n",
       "      <th>9957</th>\n",
       "      <td>Amanda Anderson</td>\n",
       "      <td>44188 Day Crest Apt. 901, Lake Marcia, Maine, ...</td>\n",
       "      <td>44188 Day Crest Apt. 901</td>\n",
       "      <td>Lake Marcia</td>\n",
       "      <td>Maine</td>\n",
       "      <td>37378</td>\n",
       "    </tr>\n",
       "    <tr>\n",
       "      <th>9958</th>\n",
       "      <td>Eric Davis</td>\n",
       "      <td>73015 Michelle Squares, Watsonville, West Virg...</td>\n",
       "      <td>73015 Michelle Squares</td>\n",
       "      <td>Watsonville</td>\n",
       "      <td>West Virginia</td>\n",
       "      <td>03933</td>\n",
       "    </tr>\n",
       "    <tr>\n",
       "      <th>9959</th>\n",
       "      <td>Taylor Hernandez</td>\n",
       "      <td>129 Keith Greens, Haleyfurt, Oklahoma, 98916</td>\n",
       "      <td>129 Keith Greens</td>\n",
       "      <td>Haleyfurt</td>\n",
       "      <td>Oklahoma</td>\n",
       "      <td>98916</td>\n",
       "    </tr>\n",
       "    <tr>\n",
       "      <th>9960</th>\n",
       "      <td>Sherry Nicholson</td>\n",
       "      <td>355 Griffin Valley, Davidtown, New Mexico, 17581</td>\n",
       "      <td>355 Griffin Valley</td>\n",
       "      <td>Davidtown</td>\n",
       "      <td>New Mexico</td>\n",
       "      <td>17581</td>\n",
       "    </tr>\n",
       "  </tbody>\n",
       "</table>\n",
       "</div>"
      ]
     },
     "execution_count": 9,
     "metadata": {},
     "output_type": "execute_result"
    }
   ],
   "execution_count": 9
  },
  {
   "cell_type": "code",
   "source": [
    "# Street 열의 4자리 숫자의 모든 항목을 * 표로 치환합니다.\n",
    "customers[\"Street\"] = customers[\"Street\"].str.replace(r\"\\d{4}\", \"*\")\n",
    "customers.head()"
   ],
   "metadata": {
    "id": "BMJ67pxQ5leB",
    "colab": {
     "base_uri": "https://localhost:8080/",
     "height": 206
    },
    "executionInfo": {
     "status": "ok",
     "timestamp": 1720686675498,
     "user_tz": -540,
     "elapsed": 10,
     "user": {
      "displayName": "이정현",
      "userId": "13460005357557602755"
     }
    },
    "outputId": "8f0d4565-968c-4a0e-e473-e0b4469680f5",
    "ExecuteTime": {
     "end_time": "2024-07-11T11:41:29.780576Z",
     "start_time": "2024-07-11T11:41:29.756369Z"
    }
   },
   "outputs": [
    {
     "name": "stderr",
     "output_type": "stream",
     "text": [
      "/var/folders/gv/kkkxv7l52gg7b97y0gykj3_w0000gn/T/ipykernel_7297/3200620428.py:2: FutureWarning: The default value of regex will change from True to False in a future version.\n",
      "  customers[\"Street\"] = customers[\"Street\"].str.replace(r\"\\d{4}\", \"*\")\n"
     ]
    },
    {
     "data": {
      "text/plain": [
       "                  Name                                            Address  \\\n",
       "0        Frank Manning  6461 Quinn Groves, East Matthew, New Hampshire...   \n",
       "1    Elizabeth Johnson  1360 Tracey Ports Apt. 419, Kyleport, Vermont,...   \n",
       "2      Donald Stephens  19120 Fleming Manors, Prestonstad, Montana, 23495   \n",
       "3  Michael Vincent III       441 Olivia Creek, Jimmymouth, Georgia, 82991   \n",
       "4       Jasmine Zamora  4246 Chelsey Ford Apt. 310, Karamouth, Utah, 7...   \n",
       "\n",
       "                    Street           City           State     Zip  \n",
       "0           * Quinn Groves   East Matthew   New Hampshire   16656  \n",
       "1  * Tracey Ports Apt. 419       Kyleport         Vermont   31924  \n",
       "2        *0 Fleming Manors    Prestonstad         Montana   23495  \n",
       "3         441 Olivia Creek     Jimmymouth         Georgia   82991  \n",
       "4  * Chelsey Ford Apt. 310      Karamouth            Utah   76252  "
      ],
      "text/html": [
       "<div>\n",
       "<style scoped>\n",
       "    .dataframe tbody tr th:only-of-type {\n",
       "        vertical-align: middle;\n",
       "    }\n",
       "\n",
       "    .dataframe tbody tr th {\n",
       "        vertical-align: top;\n",
       "    }\n",
       "\n",
       "    .dataframe thead th {\n",
       "        text-align: right;\n",
       "    }\n",
       "</style>\n",
       "<table border=\"1\" class=\"dataframe\">\n",
       "  <thead>\n",
       "    <tr style=\"text-align: right;\">\n",
       "      <th></th>\n",
       "      <th>Name</th>\n",
       "      <th>Address</th>\n",
       "      <th>Street</th>\n",
       "      <th>City</th>\n",
       "      <th>State</th>\n",
       "      <th>Zip</th>\n",
       "    </tr>\n",
       "  </thead>\n",
       "  <tbody>\n",
       "    <tr>\n",
       "      <th>0</th>\n",
       "      <td>Frank Manning</td>\n",
       "      <td>6461 Quinn Groves, East Matthew, New Hampshire...</td>\n",
       "      <td>* Quinn Groves</td>\n",
       "      <td>East Matthew</td>\n",
       "      <td>New Hampshire</td>\n",
       "      <td>16656</td>\n",
       "    </tr>\n",
       "    <tr>\n",
       "      <th>1</th>\n",
       "      <td>Elizabeth Johnson</td>\n",
       "      <td>1360 Tracey Ports Apt. 419, Kyleport, Vermont,...</td>\n",
       "      <td>* Tracey Ports Apt. 419</td>\n",
       "      <td>Kyleport</td>\n",
       "      <td>Vermont</td>\n",
       "      <td>31924</td>\n",
       "    </tr>\n",
       "    <tr>\n",
       "      <th>2</th>\n",
       "      <td>Donald Stephens</td>\n",
       "      <td>19120 Fleming Manors, Prestonstad, Montana, 23495</td>\n",
       "      <td>*0 Fleming Manors</td>\n",
       "      <td>Prestonstad</td>\n",
       "      <td>Montana</td>\n",
       "      <td>23495</td>\n",
       "    </tr>\n",
       "    <tr>\n",
       "      <th>3</th>\n",
       "      <td>Michael Vincent III</td>\n",
       "      <td>441 Olivia Creek, Jimmymouth, Georgia, 82991</td>\n",
       "      <td>441 Olivia Creek</td>\n",
       "      <td>Jimmymouth</td>\n",
       "      <td>Georgia</td>\n",
       "      <td>82991</td>\n",
       "    </tr>\n",
       "    <tr>\n",
       "      <th>4</th>\n",
       "      <td>Jasmine Zamora</td>\n",
       "      <td>4246 Chelsey Ford Apt. 310, Karamouth, Utah, 7...</td>\n",
       "      <td>* Chelsey Ford Apt. 310</td>\n",
       "      <td>Karamouth</td>\n",
       "      <td>Utah</td>\n",
       "      <td>76252</td>\n",
       "    </tr>\n",
       "  </tbody>\n",
       "</table>\n",
       "</div>"
      ]
     },
     "execution_count": 10,
     "metadata": {},
     "output_type": "execute_result"
    }
   ],
   "execution_count": 10
  },
  {
   "cell_type": "markdown",
   "source": [
    "# [문제 3]\n",
    "\n",
    "## investments.csv 데이터셋은 웹사이트 크런치베이스에 수집한 27,000 개 이상의 스타트업 투자 기록을 담은 데이터셋.\n",
    "\n",
    "## 각 스타트업에는 이름(Name), 시장(Market), 상태 (Status), 운영하는 주(State)와 투자 라운드(Funding Rounds) 정보가 있습니다."
   ],
   "metadata": {
    "id": "d_HmwglU-TFK"
   }
  },
  {
   "cell_type": "code",
   "source": [
    "investments = pd.read_csv(\"investments.csv\")\n",
    "investments.head()"
   ],
   "metadata": {
    "id": "7SCAwHfm-K0S",
    "colab": {
     "base_uri": "https://localhost:8080/",
     "height": 206
    },
    "executionInfo": {
     "status": "ok",
     "timestamp": 1720686675498,
     "user_tz": -540,
     "elapsed": 9,
     "user": {
      "displayName": "이정현",
      "userId": "13460005357557602755"
     }
    },
    "outputId": "518047f2-3b8c-466f-b03f-6bee9e96fb45",
    "ExecuteTime": {
     "end_time": "2024-07-11T11:41:29.822678Z",
     "start_time": "2024-07-11T11:41:29.782819Z"
    }
   },
   "outputs": [
    {
     "data": {
      "text/plain": [
       "                 Name    Market     Status State  Funding Rounds\n",
       "0            #waywire      News   Acquired    NY               1\n",
       "1  &TV Communications     Games  Operating    CA               2\n",
       "2  -R- Ranch and Mine   Tourism  Operating    TX               2\n",
       "3    004 Technologies  Software  Operating    IL               1\n",
       "4             1-4 All  Software  Operating    NC               1"
      ],
      "text/html": [
       "<div>\n",
       "<style scoped>\n",
       "    .dataframe tbody tr th:only-of-type {\n",
       "        vertical-align: middle;\n",
       "    }\n",
       "\n",
       "    .dataframe tbody tr th {\n",
       "        vertical-align: top;\n",
       "    }\n",
       "\n",
       "    .dataframe thead th {\n",
       "        text-align: right;\n",
       "    }\n",
       "</style>\n",
       "<table border=\"1\" class=\"dataframe\">\n",
       "  <thead>\n",
       "    <tr style=\"text-align: right;\">\n",
       "      <th></th>\n",
       "      <th>Name</th>\n",
       "      <th>Market</th>\n",
       "      <th>Status</th>\n",
       "      <th>State</th>\n",
       "      <th>Funding Rounds</th>\n",
       "    </tr>\n",
       "  </thead>\n",
       "  <tbody>\n",
       "    <tr>\n",
       "      <th>0</th>\n",
       "      <td>#waywire</td>\n",
       "      <td>News</td>\n",
       "      <td>Acquired</td>\n",
       "      <td>NY</td>\n",
       "      <td>1</td>\n",
       "    </tr>\n",
       "    <tr>\n",
       "      <th>1</th>\n",
       "      <td>&amp;TV Communications</td>\n",
       "      <td>Games</td>\n",
       "      <td>Operating</td>\n",
       "      <td>CA</td>\n",
       "      <td>2</td>\n",
       "    </tr>\n",
       "    <tr>\n",
       "      <th>2</th>\n",
       "      <td>-R- Ranch and Mine</td>\n",
       "      <td>Tourism</td>\n",
       "      <td>Operating</td>\n",
       "      <td>TX</td>\n",
       "      <td>2</td>\n",
       "    </tr>\n",
       "    <tr>\n",
       "      <th>3</th>\n",
       "      <td>004 Technologies</td>\n",
       "      <td>Software</td>\n",
       "      <td>Operating</td>\n",
       "      <td>IL</td>\n",
       "      <td>1</td>\n",
       "    </tr>\n",
       "    <tr>\n",
       "      <th>4</th>\n",
       "      <td>1-4 All</td>\n",
       "      <td>Software</td>\n",
       "      <td>Operating</td>\n",
       "      <td>NC</td>\n",
       "      <td>1</td>\n",
       "    </tr>\n",
       "  </tbody>\n",
       "</table>\n",
       "</div>"
      ]
     },
     "execution_count": 11,
     "metadata": {},
     "output_type": "execute_result"
    }
   ],
   "execution_count": 11
  },
  {
   "cell_type": "code",
   "source": [
    "# 각 열의 고유값 개수 식별\n",
    "investments.nunique()"
   ],
   "metadata": {
    "id": "kniHHBz9-4Bl",
    "colab": {
     "base_uri": "https://localhost:8080/"
    },
    "executionInfo": {
     "status": "ok",
     "timestamp": 1720686675498,
     "user_tz": -540,
     "elapsed": 9,
     "user": {
      "displayName": "이정현",
      "userId": "13460005357557602755"
     }
    },
    "outputId": "6234c271-dd36-43a1-f3c5-59def6f5ccf4",
    "ExecuteTime": {
     "end_time": "2024-07-11T11:41:29.842469Z",
     "start_time": "2024-07-11T11:41:29.823998Z"
    }
   },
   "outputs": [
    {
     "data": {
      "text/plain": [
       "Name              27763\n",
       "Market              693\n",
       "Status                3\n",
       "State                61\n",
       "Funding Rounds       16\n",
       "dtype: int64"
      ]
     },
     "execution_count": 12,
     "metadata": {},
     "output_type": "execute_result"
    }
   ],
   "execution_count": 12
  },
  {
   "cell_type": "code",
   "source": [
    "# 3레벨 MultiIndex 생성\n",
    "investments = investments.set_index(\n",
    "  keys = [\"Status\", \"Funding Rounds\", \"State\"]\n",
    ").sort_index()\n"
   ],
   "metadata": {
    "id": "O0Pf0eke-4D3",
    "executionInfo": {
     "status": "ok",
     "timestamp": 1720686675498,
     "user_tz": -540,
     "elapsed": 8,
     "user": {
      "displayName": "이정현",
      "userId": "13460005357557602755"
     }
    },
    "ExecuteTime": {
     "end_time": "2024-07-11T11:41:29.864093Z",
     "start_time": "2024-07-11T11:41:29.843718Z"
    }
   },
   "outputs": [],
   "execution_count": 13
  },
  {
   "cell_type": "code",
   "source": [
    "# 확인\n",
    "investments.head()"
   ],
   "metadata": {
    "id": "yAIBTx2Y-4GK",
    "colab": {
     "base_uri": "https://localhost:8080/",
     "height": 238
    },
    "executionInfo": {
     "status": "ok",
     "timestamp": 1720686675498,
     "user_tz": -540,
     "elapsed": 8,
     "user": {
      "displayName": "이정현",
      "userId": "13460005357557602755"
     }
    },
    "outputId": "9d3916f1-af4e-4ec6-faf3-dd692a44fd2e",
    "ExecuteTime": {
     "end_time": "2024-07-11T11:41:29.878017Z",
     "start_time": "2024-07-11T11:41:29.869664Z"
    }
   },
   "outputs": [
    {
     "data": {
      "text/plain": [
       "                                                   Name               Market\n",
       "Status   Funding Rounds State                                               \n",
       "Acquired 1              AB               Hallpass Media                Games\n",
       "                        AL                    EnteGreat  Enterprise Software\n",
       "                        AL     Onward Behavioral Health        Biotechnology\n",
       "                        AL                      Proxsys        Biotechnology\n",
       "                        AZ                  Envox Group     Public Relations"
      ],
      "text/html": [
       "<div>\n",
       "<style scoped>\n",
       "    .dataframe tbody tr th:only-of-type {\n",
       "        vertical-align: middle;\n",
       "    }\n",
       "\n",
       "    .dataframe tbody tr th {\n",
       "        vertical-align: top;\n",
       "    }\n",
       "\n",
       "    .dataframe thead th {\n",
       "        text-align: right;\n",
       "    }\n",
       "</style>\n",
       "<table border=\"1\" class=\"dataframe\">\n",
       "  <thead>\n",
       "    <tr style=\"text-align: right;\">\n",
       "      <th></th>\n",
       "      <th></th>\n",
       "      <th></th>\n",
       "      <th>Name</th>\n",
       "      <th>Market</th>\n",
       "    </tr>\n",
       "    <tr>\n",
       "      <th>Status</th>\n",
       "      <th>Funding Rounds</th>\n",
       "      <th>State</th>\n",
       "      <th></th>\n",
       "      <th></th>\n",
       "    </tr>\n",
       "  </thead>\n",
       "  <tbody>\n",
       "    <tr>\n",
       "      <th rowspan=\"5\" valign=\"top\">Acquired</th>\n",
       "      <th rowspan=\"5\" valign=\"top\">1</th>\n",
       "      <th>AB</th>\n",
       "      <td>Hallpass Media</td>\n",
       "      <td>Games</td>\n",
       "    </tr>\n",
       "    <tr>\n",
       "      <th>AL</th>\n",
       "      <td>EnteGreat</td>\n",
       "      <td>Enterprise Software</td>\n",
       "    </tr>\n",
       "    <tr>\n",
       "      <th>AL</th>\n",
       "      <td>Onward Behavioral Health</td>\n",
       "      <td>Biotechnology</td>\n",
       "    </tr>\n",
       "    <tr>\n",
       "      <th>AL</th>\n",
       "      <td>Proxsys</td>\n",
       "      <td>Biotechnology</td>\n",
       "    </tr>\n",
       "    <tr>\n",
       "      <th>AZ</th>\n",
       "      <td>Envox Group</td>\n",
       "      <td>Public Relations</td>\n",
       "    </tr>\n",
       "  </tbody>\n",
       "</table>\n",
       "</div>"
      ]
     },
     "execution_count": 14,
     "metadata": {},
     "output_type": "execute_result"
    }
   ],
   "execution_count": 14
  },
  {
   "cell_type": "code",
   "source": [
    "# Status가 ‘Closed’인 모든 행을 추출\n",
    "\n",
    "investments.loc[\"Closed\"]"
   ],
   "metadata": {
    "id": "ZwwG1KCq_IiQ",
    "colab": {
     "base_uri": "https://localhost:8080/",
     "height": 455
    },
    "executionInfo": {
     "status": "ok",
     "timestamp": 1720686675498,
     "user_tz": -540,
     "elapsed": 7,
     "user": {
      "displayName": "이정현",
      "userId": "13460005357557602755"
     }
    },
    "outputId": "1d89d654-53d2-40dc-9a4f-0016b1e4f9b4",
    "ExecuteTime": {
     "end_time": "2024-07-11T11:41:29.893356Z",
     "start_time": "2024-07-11T11:41:29.879697Z"
    }
   },
   "outputs": [
    {
     "data": {
      "text/plain": [
       "                                             Name                Market\n",
       "Funding Rounds State                                                   \n",
       "1              AB     Cardinal Media Technologies  Social Network Media\n",
       "               AB                Easy Bill Online              Tracking\n",
       "               AB                   Globel Direct      Public Relations\n",
       "               AB               Ph03nix New Media                 Games\n",
       "               AL                           Naubo                  News\n",
       "...                                           ...                   ...\n",
       "8              GA                        MedShape           Health Care\n",
       "               NC             Biolex Therapeutics         Biotechnology\n",
       "               WA                      Cozi Group     Online Scheduling\n",
       "9              NY         Blackaeon International              Robotics\n",
       "11             OR                          Lecere              Software\n",
       "\n",
       "[1498 rows x 2 columns]"
      ],
      "text/html": [
       "<div>\n",
       "<style scoped>\n",
       "    .dataframe tbody tr th:only-of-type {\n",
       "        vertical-align: middle;\n",
       "    }\n",
       "\n",
       "    .dataframe tbody tr th {\n",
       "        vertical-align: top;\n",
       "    }\n",
       "\n",
       "    .dataframe thead th {\n",
       "        text-align: right;\n",
       "    }\n",
       "</style>\n",
       "<table border=\"1\" class=\"dataframe\">\n",
       "  <thead>\n",
       "    <tr style=\"text-align: right;\">\n",
       "      <th></th>\n",
       "      <th></th>\n",
       "      <th>Name</th>\n",
       "      <th>Market</th>\n",
       "    </tr>\n",
       "    <tr>\n",
       "      <th>Funding Rounds</th>\n",
       "      <th>State</th>\n",
       "      <th></th>\n",
       "      <th></th>\n",
       "    </tr>\n",
       "  </thead>\n",
       "  <tbody>\n",
       "    <tr>\n",
       "      <th rowspan=\"5\" valign=\"top\">1</th>\n",
       "      <th>AB</th>\n",
       "      <td>Cardinal Media Technologies</td>\n",
       "      <td>Social Network Media</td>\n",
       "    </tr>\n",
       "    <tr>\n",
       "      <th>AB</th>\n",
       "      <td>Easy Bill Online</td>\n",
       "      <td>Tracking</td>\n",
       "    </tr>\n",
       "    <tr>\n",
       "      <th>AB</th>\n",
       "      <td>Globel Direct</td>\n",
       "      <td>Public Relations</td>\n",
       "    </tr>\n",
       "    <tr>\n",
       "      <th>AB</th>\n",
       "      <td>Ph03nix New Media</td>\n",
       "      <td>Games</td>\n",
       "    </tr>\n",
       "    <tr>\n",
       "      <th>AL</th>\n",
       "      <td>Naubo</td>\n",
       "      <td>News</td>\n",
       "    </tr>\n",
       "    <tr>\n",
       "      <th>...</th>\n",
       "      <th>...</th>\n",
       "      <td>...</td>\n",
       "      <td>...</td>\n",
       "    </tr>\n",
       "    <tr>\n",
       "      <th rowspan=\"3\" valign=\"top\">8</th>\n",
       "      <th>GA</th>\n",
       "      <td>MedShape</td>\n",
       "      <td>Health Care</td>\n",
       "    </tr>\n",
       "    <tr>\n",
       "      <th>NC</th>\n",
       "      <td>Biolex Therapeutics</td>\n",
       "      <td>Biotechnology</td>\n",
       "    </tr>\n",
       "    <tr>\n",
       "      <th>WA</th>\n",
       "      <td>Cozi Group</td>\n",
       "      <td>Online Scheduling</td>\n",
       "    </tr>\n",
       "    <tr>\n",
       "      <th>9</th>\n",
       "      <th>NY</th>\n",
       "      <td>Blackaeon International</td>\n",
       "      <td>Robotics</td>\n",
       "    </tr>\n",
       "    <tr>\n",
       "      <th>11</th>\n",
       "      <th>OR</th>\n",
       "      <td>Lecere</td>\n",
       "      <td>Software</td>\n",
       "    </tr>\n",
       "  </tbody>\n",
       "</table>\n",
       "<p>1498 rows × 2 columns</p>\n",
       "</div>"
      ]
     },
     "execution_count": 15,
     "metadata": {},
     "output_type": "execute_result"
    }
   ],
   "execution_count": 15
  },
  {
   "cell_type": "code",
   "source": [
    "# Status가 ‘Acquired’이고 Funding Rounds가 10인 모든 행을 추출\n",
    "\n",
    "investments.loc[(\"Acquired\", 10)]"
   ],
   "metadata": {
    "id": "aq_1Q4Iy_If8",
    "colab": {
     "base_uri": "https://localhost:8080/",
     "height": 143
    },
    "executionInfo": {
     "status": "ok",
     "timestamp": 1720686675498,
     "user_tz": -540,
     "elapsed": 7,
     "user": {
      "displayName": "이정현",
      "userId": "13460005357557602755"
     }
    },
    "outputId": "6973c899-cbdb-4b4f-b1d0-6e93856e052d",
    "ExecuteTime": {
     "end_time": "2024-07-11T11:41:29.902185Z",
     "start_time": "2024-07-11T11:41:29.894919Z"
    }
   },
   "outputs": [
    {
     "data": {
      "text/plain": [
       "                   Name       Market\n",
       "State                               \n",
       "NY     Genesis Networks  Web Hosting\n",
       "TX       ACTIVE Network     Software"
      ],
      "text/html": [
       "<div>\n",
       "<style scoped>\n",
       "    .dataframe tbody tr th:only-of-type {\n",
       "        vertical-align: middle;\n",
       "    }\n",
       "\n",
       "    .dataframe tbody tr th {\n",
       "        vertical-align: top;\n",
       "    }\n",
       "\n",
       "    .dataframe thead th {\n",
       "        text-align: right;\n",
       "    }\n",
       "</style>\n",
       "<table border=\"1\" class=\"dataframe\">\n",
       "  <thead>\n",
       "    <tr style=\"text-align: right;\">\n",
       "      <th></th>\n",
       "      <th>Name</th>\n",
       "      <th>Market</th>\n",
       "    </tr>\n",
       "    <tr>\n",
       "      <th>State</th>\n",
       "      <th></th>\n",
       "      <th></th>\n",
       "    </tr>\n",
       "  </thead>\n",
       "  <tbody>\n",
       "    <tr>\n",
       "      <th>NY</th>\n",
       "      <td>Genesis Networks</td>\n",
       "      <td>Web Hosting</td>\n",
       "    </tr>\n",
       "    <tr>\n",
       "      <th>TX</th>\n",
       "      <td>ACTIVE Network</td>\n",
       "      <td>Software</td>\n",
       "    </tr>\n",
       "  </tbody>\n",
       "</table>\n",
       "</div>"
      ]
     },
     "execution_count": 16,
     "metadata": {},
     "output_type": "execute_result"
    }
   ],
   "execution_count": 16
  },
  {
   "cell_type": "code",
   "source": [
    "# Status가 ‘Operating’이고 Funding Rounds가 6이고 State가 ‘NJ’인 모든 행을 추출\n",
    "\n",
    "investments.loc[(\"Operating\", 6, \"NJ\")]"
   ],
   "metadata": {
    "id": "TVW78rhA_Idt",
    "colab": {
     "base_uri": "https://localhost:8080/",
     "height": 206
    },
    "executionInfo": {
     "status": "ok",
     "timestamp": 1720686683081,
     "user_tz": -540,
     "elapsed": 570,
     "user": {
      "displayName": "이정현",
      "userId": "13460005357557602755"
     }
    },
    "outputId": "833e6718-4c82-49d5-9878-ce3ad4f04f01",
    "ExecuteTime": {
     "end_time": "2024-07-11T11:41:29.912865Z",
     "start_time": "2024-07-11T11:41:29.903551Z"
    }
   },
   "outputs": [
    {
     "data": {
      "text/plain": [
       "                                              Name             Market\n",
       "Status    Funding Rounds State                                       \n",
       "Operating 6              NJ     Agile Therapeutics      Biotechnology\n",
       "                         NJ               Agilence  Retail Technology\n",
       "                         NJ      Edge Therapeutics      Biotechnology\n",
       "                         NJ                Nistica        Web Hosting"
      ],
      "text/html": [
       "<div>\n",
       "<style scoped>\n",
       "    .dataframe tbody tr th:only-of-type {\n",
       "        vertical-align: middle;\n",
       "    }\n",
       "\n",
       "    .dataframe tbody tr th {\n",
       "        vertical-align: top;\n",
       "    }\n",
       "\n",
       "    .dataframe thead th {\n",
       "        text-align: right;\n",
       "    }\n",
       "</style>\n",
       "<table border=\"1\" class=\"dataframe\">\n",
       "  <thead>\n",
       "    <tr style=\"text-align: right;\">\n",
       "      <th></th>\n",
       "      <th></th>\n",
       "      <th></th>\n",
       "      <th>Name</th>\n",
       "      <th>Market</th>\n",
       "    </tr>\n",
       "    <tr>\n",
       "      <th>Status</th>\n",
       "      <th>Funding Rounds</th>\n",
       "      <th>State</th>\n",
       "      <th></th>\n",
       "      <th></th>\n",
       "    </tr>\n",
       "  </thead>\n",
       "  <tbody>\n",
       "    <tr>\n",
       "      <th rowspan=\"4\" valign=\"top\">Operating</th>\n",
       "      <th rowspan=\"4\" valign=\"top\">6</th>\n",
       "      <th>NJ</th>\n",
       "      <td>Agile Therapeutics</td>\n",
       "      <td>Biotechnology</td>\n",
       "    </tr>\n",
       "    <tr>\n",
       "      <th>NJ</th>\n",
       "      <td>Agilence</td>\n",
       "      <td>Retail Technology</td>\n",
       "    </tr>\n",
       "    <tr>\n",
       "      <th>NJ</th>\n",
       "      <td>Edge Therapeutics</td>\n",
       "      <td>Biotechnology</td>\n",
       "    </tr>\n",
       "    <tr>\n",
       "      <th>NJ</th>\n",
       "      <td>Nistica</td>\n",
       "      <td>Web Hosting</td>\n",
       "    </tr>\n",
       "  </tbody>\n",
       "</table>\n",
       "</div>"
      ]
     },
     "execution_count": 17,
     "metadata": {},
     "output_type": "execute_result"
    }
   ],
   "execution_count": 17
  },
  {
   "cell_type": "code",
   "source": [
    "# Status가 ‘Closed’이고 Funding Rounds가 8인 모든 행을 추출하세요. 이때 Name 열만 추출\n",
    "\n",
    "investments.loc[(\"Closed\", 8), \"Name\"]"
   ],
   "metadata": {
    "id": "9T-cTCSY_IbX",
    "colab": {
     "base_uri": "https://localhost:8080/"
    },
    "executionInfo": {
     "status": "ok",
     "timestamp": 1720686675892,
     "user_tz": -540,
     "elapsed": 400,
     "user": {
      "displayName": "이정현",
      "userId": "13460005357557602755"
     }
    },
    "outputId": "337b5601-6972-4906-9d65-65c55b0ae64a",
    "ExecuteTime": {
     "end_time": "2024-07-11T11:41:29.923769Z",
     "start_time": "2024-07-11T11:41:29.915415Z"
    }
   },
   "outputs": [
    {
     "data": {
      "text/plain": [
       "State\n",
       "CA              CipherMax\n",
       "CA     Dilithium Networks\n",
       "CA                Moblyng\n",
       "CA               SolFocus\n",
       "CA               Solyndra\n",
       "FL    Extreme Enterprises\n",
       "GA               MedShape\n",
       "NC    Biolex Therapeutics\n",
       "WA             Cozi Group\n",
       "Name: Name, dtype: object"
      ]
     },
     "execution_count": 18,
     "metadata": {},
     "output_type": "execute_result"
    }
   ],
   "execution_count": 18
  },
  {
   "cell_type": "code",
   "source": [
    "# Status나 Funding Rounds의 값과 상관없이 State가 ‘NJ’인 모든 행을 추출\n",
    "\n",
    "# investments.loc['CA']"
   ],
   "metadata": {
    "id": "IYgRajvR_IY9",
    "colab": {
     "base_uri": "https://localhost:8080/",
     "height": 490
    },
    "executionInfo": {
     "status": "error",
     "timestamp": 1720686702922,
     "user_tz": -540,
     "elapsed": 569,
     "user": {
      "displayName": "이정현",
      "userId": "13460005357557602755"
     }
    },
    "outputId": "20eb06cb-e7f6-486d-9787-6f77af466ab0",
    "ExecuteTime": {
     "end_time": "2024-07-11T11:41:29.930886Z",
     "start_time": "2024-07-11T11:41:29.926841Z"
    }
   },
   "outputs": [],
   "execution_count": 19
  },
  {
   "cell_type": "code",
   "source": [
    "# Multilndex 레벨을 DataFrame에 열로 다시 통합\n",
    "\n",
    "investments.reset_index()"
   ],
   "metadata": {
    "id": "TBXtHvEE_IWk",
    "executionInfo": {
     "status": "aborted",
     "timestamp": 1720686675893,
     "user_tz": -540,
     "elapsed": 3,
     "user": {
      "displayName": "이정현",
      "userId": "13460005357557602755"
     }
    },
    "ExecuteTime": {
     "end_time": "2024-07-11T11:41:29.953917Z",
     "start_time": "2024-07-11T11:41:29.935059Z"
    }
   },
   "outputs": [
    {
     "data": {
      "text/plain": [
       "          Status  Funding Rounds State                        Name  \\\n",
       "0       Acquired               1    AB              Hallpass Media   \n",
       "1       Acquired               1    AL                   EnteGreat   \n",
       "2       Acquired               1    AL    Onward Behavioral Health   \n",
       "3       Acquired               1    AL                     Proxsys   \n",
       "4       Acquired               1    AZ                 Envox Group   \n",
       "...          ...             ...   ...                         ...   \n",
       "27794  Operating              14    CA                CNS Response   \n",
       "27795  Operating              14    TN  Covenant Surgical Partners   \n",
       "27796  Operating              15    MA                   Terascala   \n",
       "27797  Operating              15    PA                    InstaMed   \n",
       "27798  Operating              18    CA   Solarflare Communications   \n",
       "\n",
       "                    Market  \n",
       "0                    Games  \n",
       "1      Enterprise Software  \n",
       "2            Biotechnology  \n",
       "3            Biotechnology  \n",
       "4         Public Relations  \n",
       "...                    ...  \n",
       "27794        Biotechnology  \n",
       "27795        Biotechnology  \n",
       "27796             Software  \n",
       "27797           Technology  \n",
       "27798  Enterprise Software  \n",
       "\n",
       "[27799 rows x 5 columns]"
      ],
      "text/html": [
       "<div>\n",
       "<style scoped>\n",
       "    .dataframe tbody tr th:only-of-type {\n",
       "        vertical-align: middle;\n",
       "    }\n",
       "\n",
       "    .dataframe tbody tr th {\n",
       "        vertical-align: top;\n",
       "    }\n",
       "\n",
       "    .dataframe thead th {\n",
       "        text-align: right;\n",
       "    }\n",
       "</style>\n",
       "<table border=\"1\" class=\"dataframe\">\n",
       "  <thead>\n",
       "    <tr style=\"text-align: right;\">\n",
       "      <th></th>\n",
       "      <th>Status</th>\n",
       "      <th>Funding Rounds</th>\n",
       "      <th>State</th>\n",
       "      <th>Name</th>\n",
       "      <th>Market</th>\n",
       "    </tr>\n",
       "  </thead>\n",
       "  <tbody>\n",
       "    <tr>\n",
       "      <th>0</th>\n",
       "      <td>Acquired</td>\n",
       "      <td>1</td>\n",
       "      <td>AB</td>\n",
       "      <td>Hallpass Media</td>\n",
       "      <td>Games</td>\n",
       "    </tr>\n",
       "    <tr>\n",
       "      <th>1</th>\n",
       "      <td>Acquired</td>\n",
       "      <td>1</td>\n",
       "      <td>AL</td>\n",
       "      <td>EnteGreat</td>\n",
       "      <td>Enterprise Software</td>\n",
       "    </tr>\n",
       "    <tr>\n",
       "      <th>2</th>\n",
       "      <td>Acquired</td>\n",
       "      <td>1</td>\n",
       "      <td>AL</td>\n",
       "      <td>Onward Behavioral Health</td>\n",
       "      <td>Biotechnology</td>\n",
       "    </tr>\n",
       "    <tr>\n",
       "      <th>3</th>\n",
       "      <td>Acquired</td>\n",
       "      <td>1</td>\n",
       "      <td>AL</td>\n",
       "      <td>Proxsys</td>\n",
       "      <td>Biotechnology</td>\n",
       "    </tr>\n",
       "    <tr>\n",
       "      <th>4</th>\n",
       "      <td>Acquired</td>\n",
       "      <td>1</td>\n",
       "      <td>AZ</td>\n",
       "      <td>Envox Group</td>\n",
       "      <td>Public Relations</td>\n",
       "    </tr>\n",
       "    <tr>\n",
       "      <th>...</th>\n",
       "      <td>...</td>\n",
       "      <td>...</td>\n",
       "      <td>...</td>\n",
       "      <td>...</td>\n",
       "      <td>...</td>\n",
       "    </tr>\n",
       "    <tr>\n",
       "      <th>27794</th>\n",
       "      <td>Operating</td>\n",
       "      <td>14</td>\n",
       "      <td>CA</td>\n",
       "      <td>CNS Response</td>\n",
       "      <td>Biotechnology</td>\n",
       "    </tr>\n",
       "    <tr>\n",
       "      <th>27795</th>\n",
       "      <td>Operating</td>\n",
       "      <td>14</td>\n",
       "      <td>TN</td>\n",
       "      <td>Covenant Surgical Partners</td>\n",
       "      <td>Biotechnology</td>\n",
       "    </tr>\n",
       "    <tr>\n",
       "      <th>27796</th>\n",
       "      <td>Operating</td>\n",
       "      <td>15</td>\n",
       "      <td>MA</td>\n",
       "      <td>Terascala</td>\n",
       "      <td>Software</td>\n",
       "    </tr>\n",
       "    <tr>\n",
       "      <th>27797</th>\n",
       "      <td>Operating</td>\n",
       "      <td>15</td>\n",
       "      <td>PA</td>\n",
       "      <td>InstaMed</td>\n",
       "      <td>Technology</td>\n",
       "    </tr>\n",
       "    <tr>\n",
       "      <th>27798</th>\n",
       "      <td>Operating</td>\n",
       "      <td>18</td>\n",
       "      <td>CA</td>\n",
       "      <td>Solarflare Communications</td>\n",
       "      <td>Enterprise Software</td>\n",
       "    </tr>\n",
       "  </tbody>\n",
       "</table>\n",
       "<p>27799 rows × 5 columns</p>\n",
       "</div>"
      ]
     },
     "execution_count": 20,
     "metadata": {},
     "output_type": "execute_result"
    }
   ],
   "execution_count": 20
  },
  {
   "cell_type": "code",
   "source": [],
   "metadata": {
    "id": "Qmmh-nI-6XHL",
    "executionInfo": {
     "status": "aborted",
     "timestamp": 1720686675893,
     "user_tz": -540,
     "elapsed": 3,
     "user": {
      "displayName": "이정현",
      "userId": "13460005357557602755"
     }
    },
    "ExecuteTime": {
     "end_time": "2024-07-11T11:41:29.958632Z",
     "start_time": "2024-07-11T11:41:29.955532Z"
    }
   },
   "outputs": [],
   "execution_count": 20
  }
 ]
}
